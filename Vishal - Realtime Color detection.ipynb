{
 "cells": [
  {
   "cell_type": "code",
   "execution_count": 9,
   "metadata": {
    "collapsed": true
   },
   "outputs": [],
   "source": [
    "import cv2\n",
    "import numpy as np"
   ]
  },
  {
   "cell_type": "code",
   "execution_count": null,
   "metadata": {
    "collapsed": true
   },
   "outputs": [],
   "source": []
  },
  {
   "cell_type": "code",
   "execution_count": 15,
   "metadata": {},
   "outputs": [
    {
     "ename": "error",
     "evalue": "OpenCV(3.4.1) D:\\Build\\OpenCV\\opencv-3.4.1\\modules\\imgproc\\src\\color.cpp:11214: error: (-215) (scn == 3 || scn == 4) && (depth == 0 || depth == 5) in function cv::cvtColor\n",
     "output_type": "error",
     "traceback": [
      "\u001b[1;31m---------------------------------------------------------------------------\u001b[0m",
      "\u001b[1;31merror\u001b[0m                                     Traceback (most recent call last)",
      "\u001b[1;32m<ipython-input-15-f29be5233a8e>\u001b[0m in \u001b[0;36m<module>\u001b[1;34m()\u001b[0m\n\u001b[0;32m      5\u001b[0m     \u001b[0m_\u001b[0m\u001b[1;33m,\u001b[0m \u001b[0mimg\u001b[0m \u001b[1;33m=\u001b[0m \u001b[0mcap\u001b[0m\u001b[1;33m.\u001b[0m\u001b[0mread\u001b[0m\u001b[1;33m(\u001b[0m\u001b[1;33m)\u001b[0m\u001b[1;33m\u001b[0m\u001b[0m\n\u001b[0;32m      6\u001b[0m \u001b[1;33m\u001b[0m\u001b[0m\n\u001b[1;32m----> 7\u001b[1;33m     \u001b[0mhsv\u001b[0m\u001b[1;33m=\u001b[0m\u001b[0mcv2\u001b[0m\u001b[1;33m.\u001b[0m\u001b[0mcvtColor\u001b[0m\u001b[1;33m(\u001b[0m\u001b[0mimg\u001b[0m\u001b[1;33m,\u001b[0m\u001b[0mcv2\u001b[0m\u001b[1;33m.\u001b[0m\u001b[0mCOLOR_BGR2HSV\u001b[0m\u001b[1;33m)\u001b[0m\u001b[1;33m\u001b[0m\u001b[0m\n\u001b[0m\u001b[0;32m      8\u001b[0m \u001b[1;33m\u001b[0m\u001b[0m\n\u001b[0;32m      9\u001b[0m     \u001b[1;31m#definig the range of red color\u001b[0m\u001b[1;33m\u001b[0m\u001b[1;33m\u001b[0m\u001b[0m\n",
      "\u001b[1;31merror\u001b[0m: OpenCV(3.4.1) D:\\Build\\OpenCV\\opencv-3.4.1\\modules\\imgproc\\src\\color.cpp:11214: error: (-215) (scn == 3 || scn == 4) && (depth == 0 || depth == 5) in function cv::cvtColor\n"
     ]
    }
   ],
   "source": [
    "#capturing video through webcam\n",
    "cap=cv2.VideoCapture(0)\n",
    "\n",
    "while(1):\n",
    "    _, img = cap.read()\n",
    "\n",
    "    hsv=cv2.cvtColor(img,cv2.COLOR_BGR2HSV)\n",
    "\n",
    "    #definig the range of red color\n",
    "    red_lower=np.array([136,87,111],np.uint8)\n",
    "    red_upper=np.array([180,255,255],np.uint8)\n",
    "\n",
    "    #defining the Range of Blue color\n",
    "    blue_lower=np.array([99,115,150],np.uint8)\n",
    "    blue_upper=np.array([110,255,255],np.uint8)\n",
    "\n",
    "    #defining the Range of yellow color\n",
    "    yellow_lower=np.array([22,60,200],np.uint8)\n",
    "    yellow_upper=np.array([60,255,255],np.uint8)\n",
    "    \n",
    "    #defining the Range of Green color\n",
    "    green_lower=np.array([65,60,60],np.uint8)\n",
    "    green_upper=np.array([80,255,255],np.uint8)\n",
    "\n",
    "    #finding the range of red,blue and yellow color in the image\n",
    "    red=cv2.inRange(hsv, red_lower, red_upper)\n",
    "    blue=cv2.inRange(hsv,blue_lower,blue_upper)\n",
    "    yellow=cv2.inRange(hsv,yellow_lower,yellow_upper)\n",
    "    green=cv2.inRange(hsv,green_lower,green_upper)\n",
    "\n",
    "    #Morphological transformation, Dilation  \t\n",
    "    kernal = np.ones((5 ,5), \"uint8\")\n",
    "\n",
    "    red=cv2.dilate(red, kernal)\n",
    "    res=cv2.bitwise_and(img, img, mask = red)\n",
    "\n",
    "    blue=cv2.dilate(blue,kernal)\n",
    "    res1=cv2.bitwise_and(img, img, mask = blue)\n",
    "\n",
    "    yellow=cv2.dilate(yellow,kernal)\n",
    "    res2=cv2.bitwise_and(img, img, mask = yellow)\n",
    "    \n",
    "    green=cv2.dilate(green,kernal)\n",
    "    res3=cv2.bitwise_and(img, img, mask = green)\n",
    "\n",
    "\n",
    "    #Tracking the Red Color\n",
    "    (_,contours,hierarchy)=cv2.findContours(red,cv2.RETR_TREE,cv2.CHAIN_APPROX_SIMPLE)\n",
    "\n",
    "    for pic, contour in enumerate(contours):\n",
    "        area = cv2.contourArea(contour)\n",
    "        if(area>300):\n",
    "\n",
    "            x,y,w,h = cv2.boundingRect(contour)\t\n",
    "            img = cv2.rectangle(img,(x,y),(x+w,y+h),(0,0,255),2)\n",
    "            cv2.putText(img,\"RED color\",(x,y),cv2.FONT_HERSHEY_SIMPLEX, 0.7, (0,0,255))\n",
    "\n",
    "    #Tracking the Blue Color\n",
    "    (_,contours,hierarchy)=cv2.findContours(blue,cv2.RETR_TREE,cv2.CHAIN_APPROX_SIMPLE)\n",
    "    for pic, contour in enumerate(contours):\n",
    "        area = cv2.contourArea(contour)\n",
    "        if(area>300):\n",
    "            x,y,w,h = cv2.boundingRect(contour)\t\n",
    "            img = cv2.rectangle(img,(x,y),(x+w,y+h),(255,0,0),2)\n",
    "            cv2.putText(img,\"Blue color\",(x,y),cv2.FONT_HERSHEY_SIMPLEX, 0.7, (255,0,0))\n",
    "\n",
    "    #Tracking the yellow Color\n",
    "    (_,contours,hierarchy)=cv2.findContours(yellow,cv2.RETR_TREE,cv2.CHAIN_APPROX_SIMPLE)\n",
    "    for pic, contour in enumerate(contours):\n",
    "        area = cv2.contourArea(contour)\n",
    "        if(area>300):\n",
    "            x,y,w,h = cv2.boundingRect(contour)\t\n",
    "            img = cv2.rectangle(img,(x,y),(x+w,y+h),(60,255,255),2)\n",
    "            cv2.putText(img,\"yellow  color\",(x,y),cv2.FONT_HERSHEY_SIMPLEX, 1.0, (60,255,255))  \n",
    "    \n",
    "    #Tracking the green Color\n",
    "    (_,contours,hierarchy)=cv2.findContours(green,cv2.RETR_TREE,cv2.CHAIN_APPROX_SIMPLE)\n",
    "    for pic, contour in enumerate(contours):\n",
    "        area = cv2.contourArea(contour)\n",
    "        if(area>300):\n",
    "            x,y,w,h = cv2.boundingRect(contour)\t\n",
    "            img = cv2.rectangle(img,(x,y),(x+w,y+h),(0,255,0),2)\n",
    "            cv2.putText(img,\"green  color\",(x,y),cv2.FONT_HERSHEY_SIMPLEX, 1.0, (0,255,0)) \n",
    "\n",
    "\n",
    "        #cv2.imshow(\"Redcolour\",red)\n",
    "        cv2.imshow(\"Color Tracking\",img)\n",
    "        #cv2.imshow(\"red\",res) \t\n",
    "        if cv2.waitKey(10) & 0xFF == ord('q'):\n",
    "            cap.release()\n",
    "            cv2.destroyAllWindows()\n",
    "            break  \n"
   ]
  },
  {
   "cell_type": "code",
   "execution_count": null,
   "metadata": {
    "collapsed": true
   },
   "outputs": [],
   "source": []
  }
 ],
 "metadata": {
  "kernelspec": {
   "display_name": "Python 3",
   "language": "python",
   "name": "python3"
  },
  "language_info": {
   "codemirror_mode": {
    "name": "ipython",
    "version": 3
   },
   "file_extension": ".py",
   "mimetype": "text/x-python",
   "name": "python",
   "nbconvert_exporter": "python",
   "pygments_lexer": "ipython3",
   "version": "3.6.1"
  }
 },
 "nbformat": 4,
 "nbformat_minor": 2
}
